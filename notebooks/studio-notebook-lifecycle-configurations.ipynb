{
 "cells": [
  {
   "cell_type": "markdown",
   "metadata": {},
   "source": [
    "# Use Studio notebook lifecycle configurations\n",
    "\n",
    "This notebook implements a method for configuring dependencies within SageMaker Studio by using Studio Lifecycle Configuration whereby dependencies are installed each time a kernel starts-up."
   ]
  },
  {
   "cell_type": "markdown",
   "metadata": {},
   "source": [
    "## Configure environment\n",
    "\n",
    "Edit \"Add-Domain-ID\" to be your SageMaker Domain Id. "
   ]
  },
  {
   "cell_type": "code",
   "execution_count": null,
   "metadata": {},
   "outputs": [],
   "source": [
    "import base64\n",
    "import boto3\n",
    "import sagemaker\n",
    "\n",
    "SageMakerDomainId='<Add-Domain-ID>'\n",
    "\n",
    "client = boto3.client('sagemaker')"
   ]
  },
  {
   "cell_type": "markdown",
   "metadata": {},
   "source": [
    "Create Studio Lifecyle Configuration"
   ]
  },
  {
   "cell_type": "code",
   "execution_count": null,
   "metadata": {},
   "outputs": [],
   "source": [
    "StudioLifecycleConfigContent = \"\"\"# This script installs a single pip package on a SageMaker Studio Kernel Application\n",
    "#!/bin/bash\n",
    "set -eux\n",
    "# PARAMETERS\n",
    "PACKAGE=pyarrow\n",
    "pip install --upgrade $PACKAGE\"\"\"\n",
    "\n",
    "message_bytes = StudioLifecycleConfigContent.encode('ascii')\n",
    "base64_bytes = base64.b64encode(message_bytes)\n",
    "\n",
    "response = client.create_studio_lifecycle_config(\n",
    "    StudioLifecycleConfigName='InstallDependencies',\n",
    "    StudioLifecycleConfigContent=base64_bytes.decode('ascii'),\n",
    "    StudioLifecycleConfigAppType='KernelGateway',\n",
    ")"
   ]
  },
  {
   "cell_type": "markdown",
   "metadata": {},
   "source": [
    "Add Studio Lifecyle Configuration to the SageMaker domain"
   ]
  },
  {
   "cell_type": "code",
   "execution_count": null,
   "metadata": {},
   "outputs": [],
   "source": [
    "client.update_domain(\n",
    "    DomainId=SageMakerDomainId,\n",
    "    DefaultUserSettings={\n",
    "        'KernelGatewayAppSettings': {\n",
    "            'LifecycleConfigArns': [\n",
    "                response['StudioLifecycleConfigArn'],\n",
    "            ],\n",
    "        }\n",
    "    }\n",
    ")"
   ]
  },
  {
   "cell_type": "markdown",
   "metadata": {},
   "source": [
    "Now that all the configuration is done, it is time to test the script within Studio. To do this, launch the Studio and on the Launcher tab, locate the Notebooks and compute resources section and click on the Change environment to select the lifecycle configuration you created.\n",
    "\n",
    "![](../img/studio-create-notebook.png)"
   ]
  },
  {
   "cell_type": "markdown",
   "metadata": {},
   "source": [
    "On the Change environment popup, change the Start-up script option to be the lifecycle configuration created in previous steps.\n",
    "\n",
    "![](../img/change-environment.png)"
   ]
  },
  {
   "cell_type": "markdown",
   "metadata": {},
   "source": [
    "Back in the Launcher window, click on the Create notebook option.\n",
    "You can also set the Lifecycle configuration to be run by default in the Lifecycle configurations for personal Studio apps section of the Domain page.\n",
    "Within the new notebook, the dependencies installed in the start-up script will be available.\n",
    "\n",
    "![](../img/lifecycle-config-working.png)"
   ]
  }
 ],
 "metadata": {
  "kernelspec": {
   "display_name": "Python 3.10.6 64-bit",
   "language": "python",
   "name": "python3"
  },
  "language_info": {
   "codemirror_mode": {
    "name": "ipython",
    "version": 3
   },
   "file_extension": ".py",
   "mimetype": "text/x-python",
   "name": "python",
   "nbconvert_exporter": "python",
   "pygments_lexer": "ipython3",
   "version": "3.10.6"
  },
  "orig_nbformat": 4,
  "vscode": {
   "interpreter": {
    "hash": "b0fa6594d8f4cbf19f97940f81e996739fb7646882a419484c72d19e05852a7e"
   }
  }
 },
 "nbformat": 4,
 "nbformat_minor": 2
}
