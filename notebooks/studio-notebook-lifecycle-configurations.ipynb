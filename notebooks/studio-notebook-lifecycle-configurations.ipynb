{
 "cells": [
  {
   "cell_type": "markdown",
   "metadata": {},
   "source": [
    "# Use Studio notebook lifecycle configurations\n",
    "\n",
    "This notebook implements a method for configuring dependencies within SageMaker Studio by using Studio Lifecycle Configuration whereby dependencies are installed each time a kernel starts-up.\n",
    "\n",
    "For this notebook, please use the <b>Data Science</b> image and <b>Python 3</b> kernel."
   ]
  },
  {
   "cell_type": "markdown",
   "metadata": {},
   "source": [
    "<div class=\"alert alert-block alert-warning\">\n",
    "    This notebook requires the <b>Studio Execution Role</b> to have <b>sagemaker:UpdateDomain</b> and <b>sagemaker:UpdateUserProfile</b> permissions\n",
    "</div>"
   ]
  },
  {
   "cell_type": "markdown",
   "metadata": {},
   "source": [
    "## Configure environment"
   ]
  },
  {
   "cell_type": "code",
   "execution_count": 2,
   "metadata": {},
   "outputs": [],
   "source": [
    "import os\n",
    "import json\n",
    "import random\n",
    "import base64\n",
    "import boto3\n",
    "import botocore.exceptions\n",
    "import sagemaker\n",
    "\n",
    "client = boto3.client('sagemaker')"
   ]
  },
  {
   "cell_type": "markdown",
   "metadata": {},
   "source": [
    "Create Studio Lifecyle Configuration"
   ]
  },
  {
   "cell_type": "code",
   "execution_count": 3,
   "metadata": {},
   "outputs": [],
   "source": [
    "StudioLifecycleConfigName = 'InstallDependencies-%004x' % random.getrandbits(16)\n",
    "\n",
    "StudioLifecycleConfigContent = \"\"\"# This script installs a single pip package on a SageMaker Studio Kernel Application\n",
    "#!/bin/bash\n",
    "set -eux\n",
    "# PARAMETERS\n",
    "PACKAGE=pyarrow\n",
    "pip install --upgrade $PACKAGE\"\"\"\n",
    "\n",
    "message_bytes = StudioLifecycleConfigContent.encode('ascii')\n",
    "base64_bytes = base64.b64encode(message_bytes)\n",
    "\n",
    "studio_lifecycle_config = client.create_studio_lifecycle_config(\n",
    "    StudioLifecycleConfigName=StudioLifecycleConfigName,\n",
    "    StudioLifecycleConfigContent=base64_bytes.decode('ascii'),\n",
    "    StudioLifecycleConfigAppType='KernelGateway',\n",
    ")"
   ]
  },
  {
   "cell_type": "markdown",
   "metadata": {},
   "source": [
    "Fetch the SageMaker Studio domain ID"
   ]
  },
  {
   "cell_type": "code",
   "execution_count": 4,
   "metadata": {},
   "outputs": [],
   "source": [
    "NOTEBOOK_METADATA_FILE = \"/opt/ml/metadata/resource-metadata.json\"\n",
    "domain_id = None\n",
    "\n",
    "if os.path.exists(NOTEBOOK_METADATA_FILE):\n",
    "    with open(NOTEBOOK_METADATA_FILE, \"rb\") as f:\n",
    "        domain_id = json.loads(f.read()).get('DomainId')"
   ]
  },
  {
   "cell_type": "markdown",
   "metadata": {},
   "source": [
    "There two possible options for the next step, option 1 is adding the lifecycle configuration to the SageMaker domain so that all profiles within that domain inherit it and option 2 is to add the lifecycle configuration to a user profile so that it is scoped to that specific profile.\n",
    "\n",
    "Option 1: Add Studio Lifecyle Configuration to the SageMaker domain"
   ]
  },
  {
   "cell_type": "code",
   "execution_count": 5,
   "metadata": {},
   "outputs": [],
   "source": [
    "domain = client.describe_domain(\n",
    "    DomainId=domain_id\n",
    ")\n",
    "lifecycle_config_arns = domain['DefaultUserSettings']['KernelGatewayAppSettings']['LifecycleConfigArns']\n",
    "lifecycle_config_arns.append(studio_lifecycle_config['StudioLifecycleConfigArn'])\n",
    "\n",
    "try:\n",
    "    client.update_domain(\n",
    "        DomainId=domain_id,\n",
    "        DefaultUserSettings={\n",
    "            'KernelGatewayAppSettings': {\n",
    "                'LifecycleConfigArns': lifecycle_config_arns,\n",
    "            }\n",
    "        }\n",
    "    )\n",
    "except botocore.exceptions.ClientError as e:\n",
    "    role = sagemaker.get_execution_role()\n",
    "    print(f\"SageMaker Studio execution role ({role}) does not have permission to perform UpdateDomain operation. Please add 'sagemaker:UpdateDomain' permission to the role.\")\n",
    "    raise"
   ]
  },
  {
   "cell_type": "markdown",
   "metadata": {},
   "source": [
    "Option 2: Add Studio Lifecyle Configuration to a specific user profile."
   ]
  },
  {
   "cell_type": "code",
   "execution_count": 6,
   "metadata": {
    "tags": []
   },
   "outputs": [],
   "source": [
    "user_profile_name = 'alex'\n",
    "\n",
    "\n",
    "user_profile = client.describe_user_profile(\n",
    "    DomainId=domain_id,\n",
    "    UserProfileName=user_profile_name\n",
    ")\n",
    "\n",
    "try:\n",
    "    lifecycle_config_arns = user_profile['UserSettings']['KernelGatewayAppSettings']['LifecycleConfigArns']\n",
    "except KeyError as e:\n",
    "    lifecycle_config_arns = []\n",
    "lifecycle_config_arns.append(studio_lifecycle_config['StudioLifecycleConfigArn'])\n",
    "\n",
    "try:\n",
    "    client.update_user_profile(\n",
    "        DomainId=domain_id,\n",
    "        UserProfileName=user_profile_name,\n",
    "        UserSettings={\n",
    "            'KernelGatewayAppSettings': {\n",
    "                'LifecycleConfigArns': lifecycle_config_arns,\n",
    "            }\n",
    "        }\n",
    "    )\n",
    "except botocore.exceptions.ClientError as e:\n",
    "    role = sagemaker.get_execution_role()\n",
    "    print(f\"SageMaker Studio execution role ({role}) does not have permission to perform UpdateUserProfile operation. Please add 'sagemaker:UpdateUserProfile' permission to the role.\")\n",
    "    raise"
   ]
  },
  {
   "cell_type": "markdown",
   "metadata": {},
   "source": [
    "Now that all the configuration is done, it is time to test the script within Studio. To do this, launch the Studio and on the Launcher tab, locate the Notebooks and compute resources section and click on the Change environment to select the lifecycle configuration you created.\n",
    "\n",
    "![](../img/studio-create-notebook.png)"
   ]
  },
  {
   "cell_type": "markdown",
   "metadata": {},
   "source": [
    "On the Change environment popup, change the Start-up script option to be the lifecycle configuration created in previous steps.\n",
    "\n",
    "![](../img/change-environment-2.png)"
   ]
  },
  {
   "cell_type": "markdown",
   "metadata": {},
   "source": [
    "Back in the Launcher window, click on the Create notebook option.\n",
    "You can also set the Lifecycle configuration to be run by default in the Lifecycle configurations for personal Studio apps section of the Domain page.\n",
    "Within the new notebook, the dependencies installed in the start-up script will be available.\n",
    "\n",
    "![](../img/lifecycle-config-working.png)"
   ]
  }
 ],
 "metadata": {
  "instance_type": "ml.t3.medium",
  "kernelspec": {
   "display_name": "Python 3 (Data Science)",
   "language": "python",
   "name": "python3__SAGEMAKER_INTERNAL__arn:aws:sagemaker:us-east-1:081325390199:image/datascience-1.0"
  },
  "language_info": {
   "codemirror_mode": {
    "name": "ipython",
    "version": 3
   },
   "file_extension": ".py",
   "mimetype": "text/x-python",
   "name": "python",
   "nbconvert_exporter": "python",
   "pygments_lexer": "ipython3",
   "version": "3.7.10"
  },
  "vscode": {
   "interpreter": {
    "hash": "b0fa6594d8f4cbf19f97940f81e996739fb7646882a419484c72d19e05852a7e"
   }
  }
 },
 "nbformat": 4,
 "nbformat_minor": 4
}
